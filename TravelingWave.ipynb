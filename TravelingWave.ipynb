{
  "nbformat": 4,
  "nbformat_minor": 0,
  "metadata": {
    "colab": {
      "name": "TravelingWave.ipynb",
      "provenance": [],
      "authorship_tag": "ABX9TyNt+F0c6h2szZWyIC0DwlmJ",
      "include_colab_link": true
    },
    "kernelspec": {
      "name": "python3",
      "display_name": "Python 3"
    }
  },
  "cells": [
    {
      "cell_type": "markdown",
      "metadata": {
        "id": "view-in-github",
        "colab_type": "text"
      },
      "source": [
        "<a href=\"https://colab.research.google.com/github/brash99/AnaBarMC/blob/master/TravelingWave.ipynb\" target=\"_parent\"><img src=\"https://colab.research.google.com/assets/colab-badge.svg\" alt=\"Open In Colab\"/></a>"
      ]
    },
    {
      "cell_type": "code",
      "metadata": {
        "id": "j_o0pie1j61U"
      },
      "source": [
        "# Remember: comments in python are denoted by the pound sign\n",
        "import numpy as np                            #here we load numpy\n",
        "from matplotlib import pyplot as plt     #here we load matplotlib\n",
        "import time, sys                         #and load some utilities"
      ],
      "execution_count": 1,
      "outputs": []
    },
    {
      "cell_type": "code",
      "metadata": {
        "id": "DsjQi5MfkKHC"
      },
      "source": [
        "#this makes matplotlib plots appear in the notebook (instead of a separate window)\n",
        "%matplotlib inline                  "
      ],
      "execution_count": 2,
      "outputs": []
    },
    {
      "cell_type": "code",
      "metadata": {
        "colab": {
          "base_uri": "https://localhost:8080/"
        },
        "id": "thUmpMTTkPBq",
        "outputId": "39f53e1e-b9be-459d-ad11-89d6e5860923"
      },
      "source": [
        "# Consider a wave traveling to the right at 25 m/s.  We will consider the\n",
        "# situation of the wave traveling from x=0.75m to x=16.375m.  This will take\n",
        "# 0.625 seconds.  \n",
        "#\n",
        "# We define the x-axis to start at x=0.0m and end at x=20.0m.\n",
        "# \n",
        "# We specify the number of steps in x (nx), and the number\n",
        "# of steps in t (nt), and calculate dx and dt based on these choices.\n",
        "#\n",
        "# The crucial quantity is c*dt/dx, which must be less than or equal to 1\n",
        "# in order to have any stable solution, and must be exactly equal to 1 for\n",
        "# the correct (shape-conserving) solution.\n",
        "\n",
        "xrange = 20.0\n",
        "trange = 0.625\n",
        "nx = 401  # try changing this number from 41 to 81 and Run All ... what happens?\n",
        "dx = xrange / (nx-1)\n",
        "nt = 2001    #nt is the number of timesteps we want to calculate\n",
        "dt = trange/ (nt-1)  #dt is the amount of time each timestep covers (delta t)\n",
        "c = 25      #assume wavespeed of c = 25 m/s\n",
        "\n",
        "x = np.linspace(0,xrange,nx)\n",
        "\n",
        "print (\"Stability criterion = \",c*dt/dx)"
      ],
      "execution_count": 3,
      "outputs": [
        {
          "output_type": "stream",
          "text": [
            "Stability criterion =  0.15625\n"
          ],
          "name": "stdout"
        }
      ]
    },
    {
      "cell_type": "code",
      "metadata": {
        "id": "hSC2t4s3kTUw"
      },
      "source": [
        "# Set the wavefunction equal to all ones, initially\n",
        "u = np.ones(nx)      #numpy function ones()\n",
        "\n",
        "# Test Case 1: Square Pulse\n",
        "u[int(.5 / dx):int(1 / dx + 1)] = 2  #setting u = 2 between 0.5 and 1\n",
        "u[int(1 / dx):int(1.5 / dx + 1)] = 0  #setting u = 0 between 1 and 1.5\n",
        "\n",
        "# Test Case 2:  Gaussian Pulse\n",
        "#mu = 0.75\n",
        "#sigma = 0.25\n",
        "#for i in range(len(u)):\n",
        "#  u[i]=u[i]+np.exp(-1.0*(x[i]-mu)**2/sigma**2)\n"
      ],
      "execution_count": 4,
      "outputs": []
    },
    {
      "cell_type": "code",
      "metadata": {
        "colab": {
          "base_uri": "https://localhost:8080/",
          "height": 265
        },
        "id": "DxUL7BDwkZBg",
        "outputId": "eaf85d68-2fc9-47ca-ce35-92c42a9279c8"
      },
      "source": [
        "plt.plot(x, u);"
      ],
      "execution_count": 5,
      "outputs": [
        {
          "output_type": "display_data",
          "data": {
            "image/png": "[encoded data removed]",
            "text/plain": [
              "<Figure size 432x288 with 1 Axes>"
            ]
          },
          "metadata": {
            "tags": [],
            "needs_background": "light"
          }
        }
      ]
    },
    {
      "cell_type": "code",
      "metadata": {
        "id": "nvo0TMCMkheZ"
      },
      "source": [
        "un = np.ones(nx) #initialize a temporary array\n",
        "\n",
        "for n in range(nt):  #loop for values of n from 0 to nt, so it will run nt times\n",
        "    un = u.copy() ##copy the existing values of u into un\n",
        "    for i in range(1, nx): ## you can try commenting this line and...\n",
        "    #for i in range(nx): ## ... uncommenting this line and see what happens!\n",
        "        u[i] = un[i] - c * dt / dx * (un[i] - un[i-1])"
      ],
      "execution_count": 6,
      "outputs": []
    },
    {
      "cell_type": "code",
      "metadata": {
        "colab": {
          "base_uri": "https://localhost:8080/",
          "height": 265
        },
        "id": "MQ0dgbPmkjeN",
        "outputId": "8486bc26-03b5-4923-b66b-ef9feb4327f8"
      },
      "source": [
        "plt.plot(x, u);"
      ],
      "execution_count": 7,
      "outputs": [
        {
          "output_type": "display_data",
          "data": {
            "image/png": "[encoded data removed]",
            "text/plain": [
              "<Figure size 432x288 with 1 Axes>"
            ]
          },
          "metadata": {
            "tags": [],
            "needs_background": "light"
          }
        }
      ]
    },
    {
      "cell_type": "code",
      "metadata": {
        "colab": {
          "base_uri": "https://localhost:8080/",
          "height": 298
        },
        "id": "Z0xe0waXuN_5",
        "outputId": "3464daa6-3a09-478b-eb9c-4c6f68a15f1b"
      },
      "source": [
        "xrange = 20.0\n",
        "trange = 0.620\n",
        "nx = 401  # try changing this number from 41 to 81 and Run All ... what happens?\n",
        "dx = xrange / (nx-1)\n",
        "nt = 311    #nt is the number of timesteps we want to calculate\n",
        "dt = trange/ (nt-1)  #dt is the amount of time each timestep covers (delta t)\n",
        "c = 25      #assume wavespeed of c = 25 m/s\n",
        "\n",
        "print (\"Stability criterion = \",c*dt/dx)\n",
        "\n",
        "u = np.ones(nx)      #numpy function ones()\n",
        "x = np.linspace(0, xrange, nx)\n",
        "\n",
        "# Test Case 1: Square Puls\n",
        "u[int(.5 / dx):int(1 / dx + 1)] = 2  #setting u = 2 between 0.5 and 1 as per our I.C.s\n",
        "u[int(1 / dx):int(1.5 / dx + 1)] = 0  #setting u = 0 between 1 and 1.5 as per our I.C.s\n",
        "\n",
        "# Test Case 2:  Gaussian Pulse\n",
        "#mu = 0.75\n",
        "#sigma = 0.25\n",
        "#for i in range(len(u)):\n",
        "#  u[i]=u[i]+np.exp(-1.0*(x[i]-mu)**2/sigma**2)\n",
        "\n",
        "plt.plot(x, u);\n",
        "\n",
        "un = np.ones(nx) #initialize a temporary array\n",
        "\n",
        "for n in range(nt):  #loop for values of n from 0 to nt, so it will run nt times\n",
        "    un = u.copy() ##copy the existing values of u into un\n",
        "    for i in range(1, nx): ## you can try commenting this line and...\n",
        "        u[i] = un[i] - c * dt / dx * (un[i] - un[i-1])\n",
        "\n",
        "plt.plot(x, u)"
      ],
      "execution_count": 8,
      "outputs": [
        {
          "output_type": "stream",
          "text": [
            "Stability criterion =  1.0\n"
          ],
          "name": "stdout"
        },
        {
          "output_type": "execute_result",
          "data": {
            "text/plain": [
              "[<matplotlib.lines.Line2D at 0x7ff8a17bcda0>]"
            ]
          },
          "metadata": {
            "tags": []
          },
          "execution_count": 8
        },
        {
          "output_type": "display_data",
          "data": {
            "image/png": "[encoded data removed]",
            "text/plain": [
              "<Figure size 432x288 with 1 Axes>"
            ]
          },
          "metadata": {
            "tags": [],
            "needs_background": "light"
          }
        }
      ]
    },
    {
      "cell_type": "code",
      "metadata": {
        "colab": {
          "base_uri": "https://localhost:8080/",
          "height": 298
        },
        "id": "e3jFHnvZb2e6",
        "outputId": "e7ec7804-4945-4cc7-912d-fde5f0c7db6a"
      },
      "source": [
        "xrange = 20.0\n",
        "trange = 0.620\n",
        "nx = 401  # try changing this number from 41 to 81 and Run All ... what happens?\n",
        "dx = xrange / (nx-1)\n",
        "nt = 321    #nt is the number of timesteps we want to calculate\n",
        "dt = trange/ (nt-1)  #dt is the amount of time each timestep covers (delta t)\n",
        "c = 25      #assume wavespeed of c = 25 m/s\n",
        "\n",
        "print (\"Stability criterion = \",c*dt/dx)\n",
        "\n",
        "u = np.ones(nx)      #numpy function ones()\n",
        "x = np.linspace(0, xrange, nx)\n",
        "\n",
        "# Test Case 1: Square Puls\n",
        "u[int(.5 / dx):int(1 / dx + 1)] = 2  #setting u = 2 between 0.5 and 1 as per our I.C.s\n",
        "u[int(1 / dx):int(1.5 / dx + 1)] = 0  #setting u = 0 between 1 and 1.5 as per our I.C.s\n",
        "\n",
        "# Test Case 2:  Gaussian Pulse\n",
        "#mu = 0.75\n",
        "#sigma = 0.25\n",
        "#for i in range(len(u)):\n",
        "#  u[i]=u[i]+np.exp(-1.0*(x[i]-mu)**2/sigma**2)\n",
        "\n",
        "plt.plot(x, u);\n",
        "\n",
        "un = np.ones(nx) #initialize a temporary array\n",
        "\n",
        "for n in range(nt):  #loop for values of n from 0 to nt, so it will run nt times\n",
        "    un = u.copy() ##copy the existing values of u into un\n",
        "    for i in range(1, nx-1): ## you can try commenting this line and...\n",
        "        # Lax Method ... replace un[i] with average of un[i+1] and un[i-1]\n",
        "        #                 and replace x forward difference with centered\n",
        "        #                 difference derivative.\n",
        "        u[i] = (un[i+1]+un[i-1])/2.0 - c * dt / (2.0*dx) * (un[i+1] - un[i-1])\n",
        "\n",
        "plt.plot(x, u)"
      ],
      "execution_count": 9,
      "outputs": [
        {
          "output_type": "stream",
          "text": [
            "Stability criterion =  0.96875\n"
          ],
          "name": "stdout"
        },
        {
          "output_type": "execute_result",
          "data": {
            "text/plain": [
              "[<matplotlib.lines.Line2D at 0x7ff8a18214a8>]"
            ]
          },
          "metadata": {
            "tags": []
          },
          "execution_count": 9
        },
        {
          "output_type": "display_data",
          "data": {
            "image/png": "[encoded data removed]",
            "text/plain": [
              "<Figure size 432x288 with 1 Axes>"
            ]
          },
          "metadata": {
            "tags": [],
            "needs_background": "light"
          }
        }
      ]
    },
    {
      "cell_type": "code",
      "metadata": {
        "colab": {
          "base_uri": "https://localhost:8080/",
          "height": 298
        },
        "id": "V8261kZ96I6b",
        "outputId": "00ae9081-ef84-4dce-db68-b17dea99fed2"
      },
      "source": [
        "xrange = 20.0\n",
        "trange = 0.620\n",
        "nx = 401  # try changing this number from 41 to 81 and Run All ... what happens?\n",
        "dx = xrange / (nx-1)\n",
        "nt = 321    #nt is the number of timesteps we want to calculate\n",
        "dt = trange/ (nt-1)  #dt is the amount of time each timestep covers (delta t)\n",
        "c = 25      #assume wavespeed of c = 25 m/s\n",
        "\n",
        "print (\"Stability criterion = \",c*dt/dx)\n",
        "\n",
        "u = np.ones(nx)      #numpy function ones()\n",
        "x = np.linspace(0, xrange, nx)\n",
        "\n",
        "# Test Case 1: Square Puls\n",
        "u[int(.5 / dx):int(1 / dx + 1)] = 2  #setting u = 2 between 0.5 and 1 as per our I.C.s\n",
        "u[int(1 / dx):int(1.5 / dx + 1)] = 0  #setting u = 0 between 1 and 1.5 as per our I.C.s\n",
        "\n",
        "# Test Case 2:  Gaussian Pulse\n",
        "#mu = 0.75\n",
        "#sigma = 0.25\n",
        "#for i in range(len(u)):\n",
        "#  u[i]=u[i]+np.exp(-1.0*(x[i]-mu)**2/sigma**2)\n",
        "\n",
        "plt.plot(x, u);\n",
        "\n",
        "un = np.ones(nx) #initialize a temporary array\n",
        "\n",
        "for n in range(nt):  #loop for values of n from 0 to nt, so it will run nt times\n",
        "    un = u.copy() ##copy the existing values of u into un\n",
        "    for i in range(1, nx-1): ## you can try commenting this line and...\n",
        "        # Lax-Wendoff Method ... replace x forward difference with centered\n",
        "        #                 difference derivative, and add second order term\n",
        "        coeff1 = c*dt/(2.0*dx)\n",
        "        coeff2 = c**2*dt**2/(2.0*dx**2)\n",
        "        u[i] = un[i] - coeff1 * (un[i+1] - un[i-1]) + coeff2*(un[i+1]+un[i-1]-2.0*un[i])\n",
        "\n",
        "plt.plot(x, u)"
      ],
      "execution_count": 10,
      "outputs": [
        {
          "output_type": "stream",
          "text": [
            "Stability criterion =  0.96875\n"
          ],
          "name": "stdout"
        },
        {
          "output_type": "execute_result",
          "data": {
            "text/plain": [
              "[<matplotlib.lines.Line2D at 0x7ff8a173b4a8>]"
            ]
          },
          "metadata": {
            "tags": []
          },
          "execution_count": 10
        },
        {
          "output_type": "display_data",
          "data": {
            "image/png": "[encoded data removed]",
            "text/plain": [
              "<Figure size 432x288 with 1 Axes>"
            ]
          },
          "metadata": {
            "tags": [],
            "needs_background": "light"
          }
        }
      ]
    }
  ]
}